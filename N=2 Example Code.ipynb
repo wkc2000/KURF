{
 "cells": [
  {
   "cell_type": "code",
   "execution_count": 1,
   "id": "b2cfbc47",
   "metadata": {},
   "outputs": [
    {
     "name": "stdout",
     "output_type": "stream",
     "text": [
      "Enter value for a1: 0.6\n",
      "Ax = [6.136592096357756, 1.9317039518211208, 1.9317039518211212, 1.9317039518211212]\n",
      "1.9317039518211208 1.9317039518211212\n",
      "obj = 15.795111855463361\n",
      "1.9217039518211207\n",
      "1.9217039518211212\n",
      "0.5005176776695297\n"
     ]
    },
    {
     "data": {
      "image/png": "[encoded data removed]",
      "text/plain": [
       "<Figure size 432x288 with 1 Axes>"
      ]
     },
     "metadata": {
      "needs_background": "light"
     },
     "output_type": "display_data"
    }
   ],
   "source": [
    "from numpy import *\n",
    "from pylab import *\n",
    "import cvxpy as cp\n",
    "import numpy as np\n",
    "\n",
    "ep = 0.1\n",
    "\n",
    "c1 = [1,1] # Prototype A\n",
    "c2 = [3,3] # Prototype B\n",
    "\n",
    "a1 = float(input(\"Enter value for a1: \"))\n",
    "a2 = 1-a1\n",
    "b1 = a2\n",
    "b2 = a1\n",
    "\n",
    "def distA(x,y):\n",
    "    return sqrt((c1[0]-x)**2+(c1[1]-y)**2)\n",
    "\n",
    "def distB(x,y):\n",
    "    return sqrt((c2[0]-x)**2+(c2[1]-y)**2)\n",
    "\n",
    "d = distA(c2[0],c2[1]) # Distance between c1 and c2\n",
    "\n",
    "F = a1/(0+ep)+b1/(d+ep)-a2/(0+ep)-b2/(d+ep)-ep**2\n",
    "G = a2/(d+ep)+b2/(0+ep)-a1/(d+ep)-b1/(0+ep)-ep**2\n",
    "\n",
    "Crit = 0.5 * (1/(0+ep)-1/(d+ep)+ep**2)/(1/(0+ep)-1/(d+ep))\n",
    "\n",
    "Ax = [a1/(0+ep)+0+b1/(d+ep)+0,\n",
    "     a1/(0+ep)-a2/(0+ep)+b1/(d+ep)-b2/(d+ep),\n",
    "     -a1/(d+ep)+a2/(d+ep)-b1/(0+ep)+b2/(0+ep),\n",
    "     -a1/(d+ep)+a2/(d+ep)-b1/(0+ep)+b2/(0+ep)]\n",
    "#Ax = [a1/(0+ep)+a2/(0+ep)-b1/(d+ep)-b2/(d+ep),\n",
    "#     0-a2/(0+ep)+b1/(d+ep)+b2/(d+ep),\n",
    "#     a1/(d+ep)+a2/(d+ep)-b1/(0+ep)-b2/(0+ep),\n",
    "#     0-a2/(d+ep)+b1/(0+ep)+b2/(0+ep)]\n",
    "\n",
    "s = set(Ax)\n",
    "Ax_smallest = sorted(s)[0]\n",
    "Ax_2smallest = sorted(s)[1]\n",
    "\n",
    "print(\"Ax =\",Ax)\n",
    "print(Ax_smallest, Ax_2smallest)\n",
    "\n",
    "obj = 2*a1*(1/(0+ep)-1/(d+ep))+a2*(-1/(0+ep)+2/(d+ep))+2*b1*(1/(d+ep)-1/(0+ep))+b2*(-1/(d+ep)+2/(0+ep))+Ax_smallest+Ax_2smallest\n",
    "print(\"obj =\",obj)\n",
    "\n",
    "print(F)\n",
    "print(G) \n",
    "print(Crit)\n",
    "\n",
    "\n",
    "# Generating list of coordinates on lattice\n",
    "def lattice_plot(start,stop,num):\n",
    "    xs = linspace(start,stop,num)\n",
    "    ys = linspace(start,stop,num)\n",
    "\n",
    "    ProtoA_x = []\n",
    "    ProtoA_y = []\n",
    "    ProtoB_x = []\n",
    "    ProtoB_y = []\n",
    "\n",
    "    for i in range(len(xs)):\n",
    "        for j in range(len(ys)):\n",
    "            Val1 = a1/(distA(xs[i],ys[j])+0) + b1/(distB(xs[i],ys[j])+0)\n",
    "            Val2 = a2/(distA(xs[i],ys[j])+0) + b2/(distB(xs[i],ys[j])+0)\n",
    "            if Val1 > Val2:\n",
    "                ProtoA_x.append(xs[i])\n",
    "                ProtoA_y.append(ys[j])\n",
    "            else:\n",
    "                ProtoB_x.append(xs[i])\n",
    "                ProtoB_y.append(ys[j])\n",
    "\n",
    "    scatter(ProtoA_x,ProtoA_y)\n",
    "    scatter(ProtoB_x,ProtoB_y)\n",
    "    scatter([c1[0],c2[0]],[c1[1],c2[1]])\n",
    "    show()\n",
    "    \n",
    "lattice_plot(0,5,40)\n",
    "\n",
    "\n"
   ]
  },
  {
   "cell_type": "code",
   "execution_count": null,
   "id": "64bcc11a",
   "metadata": {},
   "outputs": [],
   "source": []
  }
 ],
 "metadata": {
  "kernelspec": {
   "display_name": "Python 3 (ipykernel)",
   "language": "python",
   "name": "python3"
  },
  "language_info": {
   "codemirror_mode": {
    "name": "ipython",
    "version": 3
   },
   "file_extension": ".py",
   "mimetype": "text/x-python",
   "name": "python",
   "nbconvert_exporter": "python",
   "pygments_lexer": "ipython3",
   "version": "3.9.12"
  }
 },
 "nbformat": 4,
 "nbformat_minor": 5
}
